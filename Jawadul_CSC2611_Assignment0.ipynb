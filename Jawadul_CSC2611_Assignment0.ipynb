{
 "cells": [
  {
   "cell_type": "markdown",
   "id": "f7d6e493-1011-4074-a72e-29879403d811",
   "metadata": {},
   "source": [
    "# Assignment 0: Hello Python\n",
    "---\n",
    "**Overview:** In this exercise you will get *Python* Installed on your laptop and get some experience building and properly formatting a Jupyter notebook.\n",
    "\n",
    "**Learning Outcomes:**\n",
    "- Basics of using Jupyter Notebooks\n",
    "- Basics of using markdown\n",
    "- Notebook formatting for readability and reusability\n",
    "- Exporting results from a Jupyter Notebook"
   ]
  },
  {
   "cell_type": "code",
   "execution_count": 1,
   "id": "initial_id",
   "metadata": {},
   "outputs": [
    {
     "name": "stdout",
     "output_type": "stream",
     "text": [
      "10\n"
     ]
    }
   ],
   "source": [
    "a = 10\n",
    "print(a)"
   ]
  },
  {
   "cell_type": "code",
   "execution_count": 2,
   "id": "7435f39a-de48-46c1-8896-5d7ae897009a",
   "metadata": {},
   "outputs": [
    {
     "name": "stdout",
     "output_type": "stream",
     "text": [
      "Hello World! This is a test cell one\n"
     ]
    }
   ],
   "source": [
    "print(\"Hello World! This is a test cell one\")"
   ]
  },
  {
   "cell_type": "code",
   "execution_count": 3,
   "id": "c6b70e7a-3bb1-4aab-91d8-35e064196d7e",
   "metadata": {},
   "outputs": [
    {
     "name": "stdout",
     "output_type": "stream",
     "text": [
      "Hello World! This is a test cell two\n"
     ]
    }
   ],
   "source": [
    "print(\"Hello World! This is a test cell two\")"
   ]
  },
  {
   "cell_type": "code",
   "execution_count": 4,
   "id": "63581526-8a70-4ccf-8916-2a35252ccff2",
   "metadata": {},
   "outputs": [
    {
     "name": "stdout",
     "output_type": "stream",
     "text": [
      "Hello World! This is a test cell three\n"
     ]
    }
   ],
   "source": [
    "print(\"Hello World! This is a test cell three\")"
   ]
  },
  {
   "cell_type": "code",
   "execution_count": 5,
   "id": "ea5fb5f6-b794-462d-b194-cfb95669e7c4",
   "metadata": {},
   "outputs": [
    {
     "name": "stdout",
     "output_type": "stream",
     "text": [
      "0\n",
      "1\n",
      "2\n",
      "3\n",
      "4\n",
      "5\n",
      "6\n",
      "7\n",
      "8\n",
      "9\n"
     ]
    }
   ],
   "source": [
    "# for loops\n",
    "# print statements\n",
    "# variable assignment\n",
    "for i in range(10):\n",
    "    print(i)"
   ]
  },
  {
   "cell_type": "code",
   "execution_count": 6,
   "id": "2e0a1b52-756d-423b-80e1-633e04293994",
   "metadata": {},
   "outputs": [
    {
     "name": "stdout",
     "output_type": "stream",
     "text": [
      "0\n",
      "1\n",
      "2\n",
      "3\n",
      "4\n",
      "5\n",
      "6\n",
      "7\n",
      "8\n",
      "9\n"
     ]
    }
   ],
   "source": [
    "# while loops\n",
    "# print statement\n",
    "# variable assignment\n",
    "i = 0\n",
    "while i < 10:\n",
    "    print(i)\n",
    "    i = i + 1"
   ]
  },
  {
   "cell_type": "code",
   "execution_count": 7,
   "id": "dac8a280-ffff-45c3-9edd-37859726413a",
   "metadata": {},
   "outputs": [
    {
     "name": "stdout",
     "output_type": "stream",
     "text": [
      "You rolled:  2\n",
      "You rolled:  8\n",
      "You rolled:  7\n",
      "You rolled:  5\n",
      "You rolled:  5\n",
      "You rolled:  6\n",
      "You rolled:  5\n",
      "You rolled:  3\n",
      "You rolled:  7\n",
      "You rolled:  4\n"
     ]
    }
   ],
   "source": [
    "# importing a library\n",
    "import random\n",
    "i = 0\n",
    "while i < 10:\n",
    "    print(\"You rolled: \", random.randint(1, 10))\n",
    "    i = i + 1\n"
   ]
  }
 ],
 "metadata": {
  "kernelspec": {
   "display_name": "Python 3 (ipykernel)",
   "language": "python",
   "name": "python3"
  },
  "language_info": {
   "codemirror_mode": {
    "name": "ipython",
    "version": 3
   },
   "file_extension": ".py",
   "mimetype": "text/x-python",
   "name": "python",
   "nbconvert_exporter": "python",
   "pygments_lexer": "ipython3",
   "version": "3.11.9"
  }
 },
 "nbformat": 4,
 "nbformat_minor": 5
}
